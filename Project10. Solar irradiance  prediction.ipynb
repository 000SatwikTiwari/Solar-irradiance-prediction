{
 "cells": [
  {
   "cell_type": "markdown",
   "id": "4a56dd0d",
   "metadata": {},
   "source": [
    "# The solar irradiance is the output of light energy from the entire disk of the Sun, measured at the Earth. "
   ]
  },
  {
   "cell_type": "code",
   "execution_count": 19,
   "id": "5a1a0938",
   "metadata": {},
   "outputs": [],
   "source": [
    "import numpy as np\n",
    "import pandas as pd\n",
    "import matplotlib.pyplot as plt\n",
    "import matplotlib.axes as ax\n",
    "import seaborn as sns\n",
    "from sklearn.metrics import mean_squared_error,r2_score,mean_absolute_error\n",
    "\n",
    "from sklearn.preprocessing import StandardScaler\n",
    "from sklearn.model_selection import train_test_split\n",
    "from sklearn.metrics import mean_squared_error\n",
    "from sklearn.tree import DecisionTreeRegressor"
   ]
  },
  {
   "cell_type": "code",
   "execution_count": 20,
   "id": "53d09e3d",
   "metadata": {},
   "outputs": [],
   "source": [
    "df = pd.read_csv(\"global_heat_index.csv\")\n"
   ]
  },
  {
   "cell_type": "code",
   "execution_count": 21,
   "id": "87de5d42",
   "metadata": {},
   "outputs": [
    {
     "data": {
      "text/html": [
       "<div>\n",
       "<style scoped>\n",
       "    .dataframe tbody tr th:only-of-type {\n",
       "        vertical-align: middle;\n",
       "    }\n",
       "\n",
       "    .dataframe tbody tr th {\n",
       "        vertical-align: top;\n",
       "    }\n",
       "\n",
       "    .dataframe thead th {\n",
       "        text-align: right;\n",
       "    }\n",
       "</style>\n",
       "<table border=\"1\" class=\"dataframe\">\n",
       "  <thead>\n",
       "    <tr style=\"text-align: right;\">\n",
       "      <th></th>\n",
       "      <th>Year</th>\n",
       "      <th>Month</th>\n",
       "      <th>Day</th>\n",
       "      <th>Hour</th>\n",
       "      <th>Dew Point</th>\n",
       "      <th>Temperature</th>\n",
       "      <th>Pressure</th>\n",
       "      <th>Relative Humidity</th>\n",
       "      <th>Wind Direction</th>\n",
       "      <th>Wind Speed</th>\n",
       "      <th>Solar Radiation (GHI)</th>\n",
       "    </tr>\n",
       "  </thead>\n",
       "  <tbody>\n",
       "    <tr>\n",
       "      <th>0</th>\n",
       "      <td>2011</td>\n",
       "      <td>1</td>\n",
       "      <td>1</td>\n",
       "      <td>0</td>\n",
       "      <td>8</td>\n",
       "      <td>13.522659</td>\n",
       "      <td>986.761841</td>\n",
       "      <td>72.295858</td>\n",
       "      <td>37.288387</td>\n",
       "      <td>3.011042</td>\n",
       "      <td>0</td>\n",
       "    </tr>\n",
       "    <tr>\n",
       "      <th>1</th>\n",
       "      <td>2011</td>\n",
       "      <td>1</td>\n",
       "      <td>1</td>\n",
       "      <td>1</td>\n",
       "      <td>8</td>\n",
       "      <td>12.835814</td>\n",
       "      <td>986.441406</td>\n",
       "      <td>75.376186</td>\n",
       "      <td>37.686718</td>\n",
       "      <td>3.091243</td>\n",
       "      <td>0</td>\n",
       "    </tr>\n",
       "    <tr>\n",
       "      <th>2</th>\n",
       "      <td>2011</td>\n",
       "      <td>1</td>\n",
       "      <td>1</td>\n",
       "      <td>2</td>\n",
       "      <td>8</td>\n",
       "      <td>12.198058</td>\n",
       "      <td>985.736511</td>\n",
       "      <td>78.405198</td>\n",
       "      <td>35.053905</td>\n",
       "      <td>3.007649</td>\n",
       "      <td>0</td>\n",
       "    </tr>\n",
       "    <tr>\n",
       "      <th>3</th>\n",
       "      <td>2011</td>\n",
       "      <td>1</td>\n",
       "      <td>1</td>\n",
       "      <td>3</td>\n",
       "      <td>8</td>\n",
       "      <td>11.583500</td>\n",
       "      <td>985.525696</td>\n",
       "      <td>81.042980</td>\n",
       "      <td>30.135216</td>\n",
       "      <td>2.926715</td>\n",
       "      <td>0</td>\n",
       "    </tr>\n",
       "    <tr>\n",
       "      <th>4</th>\n",
       "      <td>2011</td>\n",
       "      <td>1</td>\n",
       "      <td>1</td>\n",
       "      <td>4</td>\n",
       "      <td>8</td>\n",
       "      <td>11.029578</td>\n",
       "      <td>985.661926</td>\n",
       "      <td>82.548508</td>\n",
       "      <td>24.402969</td>\n",
       "      <td>2.915177</td>\n",
       "      <td>0</td>\n",
       "    </tr>\n",
       "    <tr>\n",
       "      <th>...</th>\n",
       "      <td>...</td>\n",
       "      <td>...</td>\n",
       "      <td>...</td>\n",
       "      <td>...</td>\n",
       "      <td>...</td>\n",
       "      <td>...</td>\n",
       "      <td>...</td>\n",
       "      <td>...</td>\n",
       "      <td>...</td>\n",
       "      <td>...</td>\n",
       "      <td>...</td>\n",
       "    </tr>\n",
       "    <tr>\n",
       "      <th>17515</th>\n",
       "      <td>2012</td>\n",
       "      <td>12</td>\n",
       "      <td>31</td>\n",
       "      <td>19</td>\n",
       "      <td>-6</td>\n",
       "      <td>14.702595</td>\n",
       "      <td>984.779114</td>\n",
       "      <td>22.647353</td>\n",
       "      <td>54.538628</td>\n",
       "      <td>3.383211</td>\n",
       "      <td>0</td>\n",
       "    </tr>\n",
       "    <tr>\n",
       "      <th>17516</th>\n",
       "      <td>2012</td>\n",
       "      <td>12</td>\n",
       "      <td>31</td>\n",
       "      <td>20</td>\n",
       "      <td>-6</td>\n",
       "      <td>13.823766</td>\n",
       "      <td>985.189148</td>\n",
       "      <td>23.993252</td>\n",
       "      <td>61.517830</td>\n",
       "      <td>3.519155</td>\n",
       "      <td>0</td>\n",
       "    </tr>\n",
       "    <tr>\n",
       "      <th>17517</th>\n",
       "      <td>2012</td>\n",
       "      <td>12</td>\n",
       "      <td>31</td>\n",
       "      <td>21</td>\n",
       "      <td>-6</td>\n",
       "      <td>12.951590</td>\n",
       "      <td>984.829224</td>\n",
       "      <td>25.759637</td>\n",
       "      <td>65.096191</td>\n",
       "      <td>3.518434</td>\n",
       "      <td>0</td>\n",
       "    </tr>\n",
       "    <tr>\n",
       "      <th>17518</th>\n",
       "      <td>2012</td>\n",
       "      <td>12</td>\n",
       "      <td>31</td>\n",
       "      <td>22</td>\n",
       "      <td>-5</td>\n",
       "      <td>12.138259</td>\n",
       "      <td>984.735046</td>\n",
       "      <td>27.901296</td>\n",
       "      <td>66.668427</td>\n",
       "      <td>3.400819</td>\n",
       "      <td>0</td>\n",
       "    </tr>\n",
       "    <tr>\n",
       "      <th>17519</th>\n",
       "      <td>2012</td>\n",
       "      <td>12</td>\n",
       "      <td>31</td>\n",
       "      <td>23</td>\n",
       "      <td>-5</td>\n",
       "      <td>11.420336</td>\n",
       "      <td>984.559753</td>\n",
       "      <td>29.884402</td>\n",
       "      <td>67.321007</td>\n",
       "      <td>3.246163</td>\n",
       "      <td>0</td>\n",
       "    </tr>\n",
       "  </tbody>\n",
       "</table>\n",
       "<p>17520 rows × 11 columns</p>\n",
       "</div>"
      ],
      "text/plain": [
       "       Year  Month  Day  Hour  Dew Point  Temperature    Pressure  \\\n",
       "0      2011      1    1     0          8    13.522659  986.761841   \n",
       "1      2011      1    1     1          8    12.835814  986.441406   \n",
       "2      2011      1    1     2          8    12.198058  985.736511   \n",
       "3      2011      1    1     3          8    11.583500  985.525696   \n",
       "4      2011      1    1     4          8    11.029578  985.661926   \n",
       "...     ...    ...  ...   ...        ...          ...         ...   \n",
       "17515  2012     12   31    19         -6    14.702595  984.779114   \n",
       "17516  2012     12   31    20         -6    13.823766  985.189148   \n",
       "17517  2012     12   31    21         -6    12.951590  984.829224   \n",
       "17518  2012     12   31    22         -5    12.138259  984.735046   \n",
       "17519  2012     12   31    23         -5    11.420336  984.559753   \n",
       "\n",
       "       Relative Humidity  Wind Direction  Wind Speed  Solar Radiation (GHI)  \n",
       "0              72.295858       37.288387    3.011042                      0  \n",
       "1              75.376186       37.686718    3.091243                      0  \n",
       "2              78.405198       35.053905    3.007649                      0  \n",
       "3              81.042980       30.135216    2.926715                      0  \n",
       "4              82.548508       24.402969    2.915177                      0  \n",
       "...                  ...             ...         ...                    ...  \n",
       "17515          22.647353       54.538628    3.383211                      0  \n",
       "17516          23.993252       61.517830    3.519155                      0  \n",
       "17517          25.759637       65.096191    3.518434                      0  \n",
       "17518          27.901296       66.668427    3.400819                      0  \n",
       "17519          29.884402       67.321007    3.246163                      0  \n",
       "\n",
       "[17520 rows x 11 columns]"
      ]
     },
     "execution_count": 21,
     "metadata": {},
     "output_type": "execute_result"
    }
   ],
   "source": [
    "df"
   ]
  },
  {
   "cell_type": "code",
   "execution_count": 22,
   "id": "ed7fc77e",
   "metadata": {},
   "outputs": [],
   "source": [
    "clean1 = df[df['Hour']<6]\n",
    "clean2 = df[df['Hour']>18]\n",
    "\n",
    "df = df.drop(clean1.index, axis = 0)\n",
    "df = df.drop(clean2.index, axis = 0)"
   ]
  },
  {
   "cell_type": "code",
   "execution_count": 23,
   "id": "8b46c49b",
   "metadata": {},
   "outputs": [
    {
     "data": {
      "text/plain": [
       "Year                     0\n",
       "Month                    0\n",
       "Day                      0\n",
       "Hour                     0\n",
       "Dew Point                0\n",
       "Temperature              0\n",
       "Pressure                 0\n",
       "Relative Humidity        0\n",
       "Wind Direction           0\n",
       "Wind Speed               0\n",
       "Solar Radiation (GHI)    0\n",
       "dtype: int64"
      ]
     },
     "execution_count": 23,
     "metadata": {},
     "output_type": "execute_result"
    }
   ],
   "source": [
    "df.isnull().sum()"
   ]
  },
  {
   "cell_type": "markdown",
   "id": "872909af",
   "metadata": {},
   "source": [
    "# apply random forest"
   ]
  },
  {
   "cell_type": "code",
   "execution_count": 24,
   "id": "e65a6cc3",
   "metadata": {},
   "outputs": [],
   "source": [
    "from sklearn.ensemble import RandomForestRegressor\n"
   ]
  },
  {
   "cell_type": "markdown",
   "id": "6d989c86",
   "metadata": {},
   "source": [
    "# data slicing"
   ]
  },
  {
   "cell_type": "code",
   "execution_count": 25,
   "id": "84c56a53",
   "metadata": {},
   "outputs": [],
   "source": [
    "x = df.drop(['Solar Radiation (GHI)'], axis = 1)\n",
    "y = df['Solar Radiation (GHI)']"
   ]
  },
  {
   "cell_type": "code",
   "execution_count": 26,
   "id": "12ca7141",
   "metadata": {},
   "outputs": [
    {
     "data": {
      "text/html": [
       "<div>\n",
       "<style scoped>\n",
       "    .dataframe tbody tr th:only-of-type {\n",
       "        vertical-align: middle;\n",
       "    }\n",
       "\n",
       "    .dataframe tbody tr th {\n",
       "        vertical-align: top;\n",
       "    }\n",
       "\n",
       "    .dataframe thead th {\n",
       "        text-align: right;\n",
       "    }\n",
       "</style>\n",
       "<table border=\"1\" class=\"dataframe\">\n",
       "  <thead>\n",
       "    <tr style=\"text-align: right;\">\n",
       "      <th></th>\n",
       "      <th>Year</th>\n",
       "      <th>Month</th>\n",
       "      <th>Day</th>\n",
       "      <th>Hour</th>\n",
       "      <th>Dew Point</th>\n",
       "      <th>Temperature</th>\n",
       "      <th>Pressure</th>\n",
       "      <th>Relative Humidity</th>\n",
       "      <th>Wind Direction</th>\n",
       "      <th>Wind Speed</th>\n",
       "    </tr>\n",
       "  </thead>\n",
       "  <tbody>\n",
       "    <tr>\n",
       "      <th>6</th>\n",
       "      <td>2011</td>\n",
       "      <td>1</td>\n",
       "      <td>1</td>\n",
       "      <td>6</td>\n",
       "      <td>2</td>\n",
       "      <td>7.806705</td>\n",
       "      <td>986.249146</td>\n",
       "      <td>67.093181</td>\n",
       "      <td>95.835983</td>\n",
       "      <td>1.815175</td>\n",
       "    </tr>\n",
       "    <tr>\n",
       "      <th>7</th>\n",
       "      <td>2011</td>\n",
       "      <td>1</td>\n",
       "      <td>1</td>\n",
       "      <td>7</td>\n",
       "      <td>2</td>\n",
       "      <td>9.036408</td>\n",
       "      <td>987.038940</td>\n",
       "      <td>64.035483</td>\n",
       "      <td>105.198181</td>\n",
       "      <td>1.615310</td>\n",
       "    </tr>\n",
       "    <tr>\n",
       "      <th>8</th>\n",
       "      <td>2011</td>\n",
       "      <td>1</td>\n",
       "      <td>1</td>\n",
       "      <td>8</td>\n",
       "      <td>3</td>\n",
       "      <td>12.158280</td>\n",
       "      <td>987.897400</td>\n",
       "      <td>55.105656</td>\n",
       "      <td>113.317665</td>\n",
       "      <td>1.439088</td>\n",
       "    </tr>\n",
       "    <tr>\n",
       "      <th>9</th>\n",
       "      <td>2011</td>\n",
       "      <td>1</td>\n",
       "      <td>1</td>\n",
       "      <td>9</td>\n",
       "      <td>3</td>\n",
       "      <td>14.965301</td>\n",
       "      <td>988.211914</td>\n",
       "      <td>47.166938</td>\n",
       "      <td>117.327606</td>\n",
       "      <td>1.063374</td>\n",
       "    </tr>\n",
       "    <tr>\n",
       "      <th>10</th>\n",
       "      <td>2011</td>\n",
       "      <td>1</td>\n",
       "      <td>1</td>\n",
       "      <td>10</td>\n",
       "      <td>3</td>\n",
       "      <td>18.956082</td>\n",
       "      <td>988.054504</td>\n",
       "      <td>36.747087</td>\n",
       "      <td>72.488327</td>\n",
       "      <td>0.545695</td>\n",
       "    </tr>\n",
       "    <tr>\n",
       "      <th>...</th>\n",
       "      <td>...</td>\n",
       "      <td>...</td>\n",
       "      <td>...</td>\n",
       "      <td>...</td>\n",
       "      <td>...</td>\n",
       "      <td>...</td>\n",
       "      <td>...</td>\n",
       "      <td>...</td>\n",
       "      <td>...</td>\n",
       "      <td>...</td>\n",
       "    </tr>\n",
       "    <tr>\n",
       "      <th>17510</th>\n",
       "      <td>2012</td>\n",
       "      <td>12</td>\n",
       "      <td>31</td>\n",
       "      <td>14</td>\n",
       "      <td>-8</td>\n",
       "      <td>24.219059</td>\n",
       "      <td>983.661621</td>\n",
       "      <td>10.363324</td>\n",
       "      <td>5.771851</td>\n",
       "      <td>1.837763</td>\n",
       "    </tr>\n",
       "    <tr>\n",
       "      <th>17511</th>\n",
       "      <td>2012</td>\n",
       "      <td>12</td>\n",
       "      <td>31</td>\n",
       "      <td>15</td>\n",
       "      <td>-9</td>\n",
       "      <td>22.715263</td>\n",
       "      <td>983.482239</td>\n",
       "      <td>11.240004</td>\n",
       "      <td>8.507614</td>\n",
       "      <td>1.937734</td>\n",
       "    </tr>\n",
       "    <tr>\n",
       "      <th>17512</th>\n",
       "      <td>2012</td>\n",
       "      <td>12</td>\n",
       "      <td>31</td>\n",
       "      <td>16</td>\n",
       "      <td>-7</td>\n",
       "      <td>19.968041</td>\n",
       "      <td>983.660339</td>\n",
       "      <td>14.983540</td>\n",
       "      <td>17.507896</td>\n",
       "      <td>2.191131</td>\n",
       "    </tr>\n",
       "    <tr>\n",
       "      <th>17513</th>\n",
       "      <td>2012</td>\n",
       "      <td>12</td>\n",
       "      <td>31</td>\n",
       "      <td>17</td>\n",
       "      <td>-5</td>\n",
       "      <td>16.706517</td>\n",
       "      <td>983.768677</td>\n",
       "      <td>21.564891</td>\n",
       "      <td>29.407814</td>\n",
       "      <td>2.675606</td>\n",
       "    </tr>\n",
       "    <tr>\n",
       "      <th>17514</th>\n",
       "      <td>2012</td>\n",
       "      <td>12</td>\n",
       "      <td>31</td>\n",
       "      <td>18</td>\n",
       "      <td>-6</td>\n",
       "      <td>15.605749</td>\n",
       "      <td>984.232483</td>\n",
       "      <td>21.986937</td>\n",
       "      <td>42.642582</td>\n",
       "      <td>3.111168</td>\n",
       "    </tr>\n",
       "  </tbody>\n",
       "</table>\n",
       "<p>9490 rows × 10 columns</p>\n",
       "</div>"
      ],
      "text/plain": [
       "       Year  Month  Day  Hour  Dew Point  Temperature    Pressure  \\\n",
       "6      2011      1    1     6          2     7.806705  986.249146   \n",
       "7      2011      1    1     7          2     9.036408  987.038940   \n",
       "8      2011      1    1     8          3    12.158280  987.897400   \n",
       "9      2011      1    1     9          3    14.965301  988.211914   \n",
       "10     2011      1    1    10          3    18.956082  988.054504   \n",
       "...     ...    ...  ...   ...        ...          ...         ...   \n",
       "17510  2012     12   31    14         -8    24.219059  983.661621   \n",
       "17511  2012     12   31    15         -9    22.715263  983.482239   \n",
       "17512  2012     12   31    16         -7    19.968041  983.660339   \n",
       "17513  2012     12   31    17         -5    16.706517  983.768677   \n",
       "17514  2012     12   31    18         -6    15.605749  984.232483   \n",
       "\n",
       "       Relative Humidity  Wind Direction  Wind Speed  \n",
       "6              67.093181       95.835983    1.815175  \n",
       "7              64.035483      105.198181    1.615310  \n",
       "8              55.105656      113.317665    1.439088  \n",
       "9              47.166938      117.327606    1.063374  \n",
       "10             36.747087       72.488327    0.545695  \n",
       "...                  ...             ...         ...  \n",
       "17510          10.363324        5.771851    1.837763  \n",
       "17511          11.240004        8.507614    1.937734  \n",
       "17512          14.983540       17.507896    2.191131  \n",
       "17513          21.564891       29.407814    2.675606  \n",
       "17514          21.986937       42.642582    3.111168  \n",
       "\n",
       "[9490 rows x 10 columns]"
      ]
     },
     "execution_count": 26,
     "metadata": {},
     "output_type": "execute_result"
    }
   ],
   "source": [
    "x"
   ]
  },
  {
   "cell_type": "code",
   "execution_count": 27,
   "id": "d46b8816",
   "metadata": {},
   "outputs": [
    {
     "data": {
      "text/plain": [
       "6          0\n",
       "7          0\n",
       "8        159\n",
       "9        363\n",
       "10       533\n",
       "        ... \n",
       "17510    553\n",
       "17511    408\n",
       "17512    221\n",
       "17513     16\n",
       "17514      0\n",
       "Name: Solar Radiation (GHI), Length: 9490, dtype: int64"
      ]
     },
     "execution_count": 27,
     "metadata": {},
     "output_type": "execute_result"
    }
   ],
   "source": [
    "y"
   ]
  },
  {
   "cell_type": "code",
   "execution_count": 28,
   "id": "a1cfffcf",
   "metadata": {},
   "outputs": [],
   "source": [
    "from sklearn.preprocessing import StandardScaler\n",
    "\n",
    "xtrain, xtest, ytrain, ytest = train_test_split(x, y, test_size = 0.3)\n"
   ]
  },
  {
   "cell_type": "code",
   "execution_count": 29,
   "id": "fa8dc459",
   "metadata": {},
   "outputs": [
    {
     "name": "stderr",
     "output_type": "stream",
     "text": [
      "C:\\Anaconda\\lib\\site-packages\\sklearn\\utils\\validation.py:623: FutureWarning: is_sparse is deprecated and will be removed in a future version. Check `isinstance(dtype, pd.SparseDtype)` instead.\n",
      "  if not hasattr(array, \"sparse\") and array.dtypes.apply(is_sparse).any():\n"
     ]
    },
    {
     "data": {
      "text/plain": [
       "RandomForestRegressor(n_estimators=1000)"
      ]
     },
     "execution_count": 29,
     "metadata": {},
     "output_type": "execute_result"
    }
   ],
   "source": [
    "rf_regressor =RandomForestRegressor(1000)\n",
    "\n",
    "rf_regressor.fit(xtrain, ytrain)"
   ]
  },
  {
   "cell_type": "code",
   "execution_count": 30,
   "id": "5bd7e23c",
   "metadata": {},
   "outputs": [
    {
     "name": "stderr",
     "output_type": "stream",
     "text": [
      "C:\\Anaconda\\lib\\site-packages\\sklearn\\utils\\validation.py:623: FutureWarning: is_sparse is deprecated and will be removed in a future version. Check `isinstance(dtype, pd.SparseDtype)` instead.\n",
      "  if not hasattr(array, \"sparse\") and array.dtypes.apply(is_sparse).any():\n"
     ]
    }
   ],
   "source": [
    "ypred = rf_regressor.predict(xtest)"
   ]
  },
  {
   "cell_type": "code",
   "execution_count": 31,
   "id": "6839dbeb",
   "metadata": {},
   "outputs": [
    {
     "data": {
      "text/plain": [
       "[<matplotlib.lines.Line2D at 0x20d7733ba60>,\n",
       " <matplotlib.lines.Line2D at 0x20d7733baf0>,\n",
       " <matplotlib.lines.Line2D at 0x20d7733bc10>,\n",
       " <matplotlib.lines.Line2D at 0x20d7733bd00>,\n",
       " <matplotlib.lines.Line2D at 0x20d7733bdf0>,\n",
       " <matplotlib.lines.Line2D at 0x20d7733bee0>,\n",
       " <matplotlib.lines.Line2D at 0x20d7733bfd0>,\n",
       " <matplotlib.lines.Line2D at 0x20d7734b100>,\n",
       " <matplotlib.lines.Line2D at 0x20d7734b1f0>,\n",
       " <matplotlib.lines.Line2D at 0x20d7734b2e0>]"
      ]
     },
     "execution_count": 31,
     "metadata": {},
     "output_type": "execute_result"
    },
    {
     "data": {
      "image/png": "[encoded data removed]",
      "text/plain": [
       "<Figure size 640x480 with 1 Axes>"
      ]
     },
     "metadata": {},
     "output_type": "display_data"
    }
   ],
   "source": [
    "plt.plot(xtest,ytest,\"+\",color='green')\n",
    "plt.plot(xtest,ypred,'*',color='red')"
   ]
  },
  {
   "cell_type": "code",
   "execution_count": 32,
   "id": "2dc12cb0",
   "metadata": {},
   "outputs": [
    {
     "data": {
      "text/plain": [
       "4985.232770679663"
      ]
     },
     "execution_count": 32,
     "metadata": {},
     "output_type": "execute_result"
    }
   ],
   "source": [
    "mean_squared_error(ypred, ytest)\n"
   ]
  },
  {
   "cell_type": "markdown",
   "id": "bdca29fd",
   "metadata": {},
   "source": [
    "# Let us use multiple regression"
   ]
  },
  {
   "cell_type": "code",
   "execution_count": 33,
   "id": "903a8bda",
   "metadata": {},
   "outputs": [],
   "source": [
    "from sklearn.linear_model import LinearRegression"
   ]
  },
  {
   "cell_type": "code",
   "execution_count": 34,
   "id": "4f6f9f33",
   "metadata": {},
   "outputs": [
    {
     "name": "stderr",
     "output_type": "stream",
     "text": [
      "C:\\Anaconda\\lib\\site-packages\\sklearn\\utils\\validation.py:623: FutureWarning: is_sparse is deprecated and will be removed in a future version. Check `isinstance(dtype, pd.SparseDtype)` instead.\n",
      "  if not hasattr(array, \"sparse\") and array.dtypes.apply(is_sparse).any():\n"
     ]
    },
    {
     "data": {
      "text/plain": [
       "LinearRegression()"
      ]
     },
     "execution_count": 34,
     "metadata": {},
     "output_type": "execute_result"
    }
   ],
   "source": [
    "lr = LinearRegression()\n",
    "lr.fit(xtrain, ytrain)"
   ]
  },
  {
   "cell_type": "code",
   "execution_count": 35,
   "id": "0eb44ba6",
   "metadata": {},
   "outputs": [
    {
     "name": "stderr",
     "output_type": "stream",
     "text": [
      "C:\\Anaconda\\lib\\site-packages\\sklearn\\utils\\validation.py:623: FutureWarning: is_sparse is deprecated and will be removed in a future version. Check `isinstance(dtype, pd.SparseDtype)` instead.\n",
      "  if not hasattr(array, \"sparse\") and array.dtypes.apply(is_sparse).any():\n"
     ]
    }
   ],
   "source": [
    "predicted_value = lr.predict(xtest)"
   ]
  },
  {
   "cell_type": "code",
   "execution_count": 36,
   "id": "d7956535",
   "metadata": {},
   "outputs": [
    {
     "data": {
      "image/png": "[encoded data removed]",
      "text/plain": [
       "<Figure size 640x480 with 1 Axes>"
      ]
     },
     "metadata": {},
     "output_type": "display_data"
    }
   ],
   "source": [
    "plt.plot(xtest, ytest, \"*\", color = \"green\")\n",
    "plt.plot(xtest, predicted_value, \"+\", color = \"red\")\n",
    "plt.title(\"Performance testing\")\n",
    "plt.xlabel(\"Input\")\n",
    "plt.xticks(np.linspace(1, 500, 10))\n",
    "plt.ylabel(\"Output\")\n",
    "plt.show()"
   ]
  },
  {
   "cell_type": "code",
   "execution_count": 37,
   "id": "c19fc807",
   "metadata": {},
   "outputs": [
    {
     "data": {
      "text/plain": [
       "47494.939007364555"
      ]
     },
     "execution_count": 37,
     "metadata": {},
     "output_type": "execute_result"
    }
   ],
   "source": [
    "mean_squared_error(predicted_value, ytest)\n"
   ]
  },
  {
   "cell_type": "code",
   "execution_count": null,
   "id": "a78c612e",
   "metadata": {},
   "outputs": [],
   "source": []
  }
 ],
 "metadata": {
  "kernelspec": {
   "display_name": "Python 3 (ipykernel)",
   "language": "python",
   "name": "python3"
  },
  "language_info": {
   "codemirror_mode": {
    "name": "ipython",
    "version": 3
   },
   "file_extension": ".py",
   "mimetype": "text/x-python",
   "name": "python",
   "nbconvert_exporter": "python",
   "pygments_lexer": "ipython3",
   "version": "3.9.13"
  }
 },
 "nbformat": 4,
 "nbformat_minor": 5
}
